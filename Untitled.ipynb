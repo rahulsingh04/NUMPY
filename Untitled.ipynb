{
 "cells": [
  {
   "cell_type": "code",
   "execution_count": 1,
   "id": "899dcf22",
   "metadata": {},
   "outputs": [],
   "source": [
    "import numpy as np \n",
    "import seaborn as sns\n",
    "import matplotlib.pyplot as plt\n",
    "import pandas as pd"
   ]
  },
  {
   "cell_type": "code",
   "execution_count": 2,
   "id": "984543c2",
   "metadata": {},
   "outputs": [],
   "source": [
    "import array"
   ]
  },
  {
   "cell_type": "code",
   "execution_count": 3,
   "id": "28ac65b0",
   "metadata": {},
   "outputs": [
    {
     "data": {
      "text/plain": [
       "numpy.ndarray"
      ]
     },
     "execution_count": 3,
     "metadata": {},
     "output_type": "execute_result"
    }
   ],
   "source": [
    "type(np.array([1,2,3,4,5]))\n"
   ]
  },
  {
   "cell_type": "code",
   "execution_count": 4,
   "id": "868df541",
   "metadata": {},
   "outputs": [
    {
     "data": {
      "text/plain": [
       "array([1, 2, 3, 4, 5])"
      ]
     },
     "execution_count": 4,
     "metadata": {},
     "output_type": "execute_result"
    }
   ],
   "source": [
    "np.array([1,2,3,4,5])"
   ]
  },
  {
   "cell_type": "code",
   "execution_count": 7,
   "id": "98d07f30",
   "metadata": {},
   "outputs": [
    {
     "data": {
      "text/plain": [
       "array(['1', '2', '4', '5', '6', '7', '8', '9', 'sudh', 'krishna'],\n",
       "      dtype='<U11')"
      ]
     },
     "execution_count": 7,
     "metadata": {},
     "output_type": "execute_result"
    }
   ],
   "source": [
    "np.array([1,2,4,5,6,7,8,9, \"sudh\" , \"krishna\"])"
   ]
  },
  {
   "cell_type": "code",
   "execution_count": 8,
   "id": "490f04e0",
   "metadata": {},
   "outputs": [
    {
     "data": {
      "text/plain": [
       "array(['1', '2', '3', '4', '5', 'sudh', '(4+8j)'], dtype='<U64')"
      ]
     },
     "execution_count": 8,
     "metadata": {},
     "output_type": "execute_result"
    }
   ],
   "source": [
    "np.array([1,2,3,4,5,\"sudh\" , 4+8j,])"
   ]
  },
  {
   "cell_type": "code",
   "execution_count": 9,
   "id": "03be4dfd",
   "metadata": {},
   "outputs": [
    {
     "data": {
      "text/plain": [
       "array([1. , 2. , 3. , 4.5, 6. ])"
      ]
     },
     "execution_count": 9,
     "metadata": {},
     "output_type": "execute_result"
    }
   ],
   "source": [
    "np.array([1,2,3,4.5,6.0])"
   ]
  },
  {
   "cell_type": "code",
   "execution_count": 10,
   "id": "d2789318",
   "metadata": {},
   "outputs": [
    {
     "data": {
      "text/plain": [
       "array([[1, 3],\n",
       "       [3, 4]])"
      ]
     },
     "execution_count": 10,
     "metadata": {},
     "output_type": "execute_result"
    }
   ],
   "source": [
    "np.array([[1,3],[3,4]])"
   ]
  },
  {
   "cell_type": "code",
   "execution_count": 11,
   "id": "86772076",
   "metadata": {},
   "outputs": [
    {
     "data": {
      "text/plain": [
       "array([[1, 3],\n",
       "       [3, 4],\n",
       "       [6, 7]])"
      ]
     },
     "execution_count": 11,
     "metadata": {},
     "output_type": "execute_result"
    }
   ],
   "source": [
    "np.array([[1,3],[3,4],[6,7]])"
   ]
  },
  {
   "cell_type": "code",
   "execution_count": 12,
   "id": "4815adc9",
   "metadata": {},
   "outputs": [
    {
     "name": "stderr",
     "output_type": "stream",
     "text": [
      "C:\\Users\\hp\\AppData\\Local\\Temp\\ipykernel_11508\\1655787997.py:1: VisibleDeprecationWarning: Creating an ndarray from ragged nested sequences (which is a list-or-tuple of lists-or-tuples-or ndarrays with different lengths or shapes) is deprecated. If you meant to do this, you must specify 'dtype=object' when creating the ndarray.\n",
      "  np.array([[1,3],[3,4],[6,7,8]])\n"
     ]
    },
    {
     "data": {
      "text/plain": [
       "array([list([1, 3]), list([3, 4]), list([6, 7, 8])], dtype=object)"
      ]
     },
     "execution_count": 12,
     "metadata": {},
     "output_type": "execute_result"
    }
   ],
   "source": [
    "np.array([[1,3],[3,4],[6,7,8]])"
   ]
  },
  {
   "cell_type": "code",
   "execution_count": 13,
   "id": "cf795626",
   "metadata": {},
   "outputs": [
    {
     "data": {
      "text/plain": [
       "array([[[1, 3],\n",
       "        [3, 4]],\n",
       "\n",
       "       [[1, 3],\n",
       "        [3, 4]]])"
      ]
     },
     "execution_count": 13,
     "metadata": {},
     "output_type": "execute_result"
    }
   ],
   "source": [
    "np.array([[[1,3],[3,4]],[[1,3],[3,4]]])"
   ]
  },
  {
   "cell_type": "code",
   "execution_count": 15,
   "id": "91a7bf48",
   "metadata": {},
   "outputs": [
    {
     "data": {
      "text/plain": [
       "array([[[[[[[[[[[[[1, 2, 3]]]]]]]]]]]]])"
      ]
     },
     "execution_count": 15,
     "metadata": {},
     "output_type": "execute_result"
    }
   ],
   "source": [
    "np.array([1,2,3] , ndmin = 13)"
   ]
  },
  {
   "cell_type": "code",
   "execution_count": 16,
   "id": "51d1345f",
   "metadata": {},
   "outputs": [
    {
     "data": {
      "text/plain": [
       "array([1.+0.j, 2.+0.j, 3.+0.j])"
      ]
     },
     "execution_count": 16,
     "metadata": {},
     "output_type": "execute_result"
    }
   ],
   "source": [
    "np.array([1,2,3] , dtype = complex)\n"
   ]
  },
  {
   "cell_type": "code",
   "execution_count": 17,
   "id": "7a948b55",
   "metadata": {},
   "outputs": [],
   "source": [
    "# arr = np.array([(1,2) , (4,5)],dtype = [(\"a\",'<i4'), (\"b\",'<i8')])"
   ]
  },
  {
   "cell_type": "code",
   "execution_count": 19,
   "id": "929bfaa0",
   "metadata": {},
   "outputs": [],
   "source": [
    "arr = np.array([(1,2) , (4,5)] , dtype = [(\"a\" , \"<i4\"), (\"b\" , \"<i8\")])"
   ]
  },
  {
   "cell_type": "code",
   "execution_count": 20,
   "id": "02b8bfe2",
   "metadata": {},
   "outputs": [
    {
     "data": {
      "text/plain": [
       "array([(1, 2), (4, 5)], dtype=[('a', '<i4'), ('b', '<i8')])"
      ]
     },
     "execution_count": 20,
     "metadata": {},
     "output_type": "execute_result"
    }
   ],
   "source": [
    "arr"
   ]
  },
  {
   "cell_type": "code",
   "execution_count": 21,
   "id": "350cdc84",
   "metadata": {},
   "outputs": [
    {
     "data": {
      "text/plain": [
       "numpy.ndarray"
      ]
     },
     "execution_count": 21,
     "metadata": {},
     "output_type": "execute_result"
    }
   ],
   "source": [
    "type(arr)"
   ]
  },
  {
   "cell_type": "code",
   "execution_count": 22,
   "id": "a8e6f9aa",
   "metadata": {},
   "outputs": [
    {
     "data": {
      "text/plain": [
       "numpy.int32"
      ]
     },
     "execution_count": 22,
     "metadata": {},
     "output_type": "execute_result"
    }
   ],
   "source": [
    "type(arr[0][0])"
   ]
  },
  {
   "cell_type": "code",
   "execution_count": 23,
   "id": "e736ea0e",
   "metadata": {},
   "outputs": [
    {
     "data": {
      "text/plain": [
       "numpy.int64"
      ]
     },
     "execution_count": 23,
     "metadata": {},
     "output_type": "execute_result"
    }
   ],
   "source": [
    "type(arr[0][1])"
   ]
  },
  {
   "cell_type": "code",
   "execution_count": 24,
   "id": "2703784a",
   "metadata": {},
   "outputs": [],
   "source": [
    "arr  = np.array([[1,3],[3,4]])"
   ]
  },
  {
   "cell_type": "code",
   "execution_count": 25,
   "id": "dd2e042b",
   "metadata": {},
   "outputs": [
    {
     "data": {
      "text/plain": [
       "array([[1, 3],\n",
       "       [3, 4]])"
      ]
     },
     "execution_count": 25,
     "metadata": {},
     "output_type": "execute_result"
    }
   ],
   "source": [
    "arr"
   ]
  },
  {
   "cell_type": "code",
   "execution_count": 26,
   "id": "4e98f506",
   "metadata": {},
   "outputs": [],
   "source": [
    "arr = np.array([[1,3],[2,4]])"
   ]
  },
  {
   "cell_type": "code",
   "execution_count": 27,
   "id": "efa56236",
   "metadata": {},
   "outputs": [
    {
     "data": {
      "text/plain": [
       "array([[1, 3],\n",
       "       [2, 4]])"
      ]
     },
     "execution_count": 27,
     "metadata": {},
     "output_type": "execute_result"
    }
   ],
   "source": [
    "arr"
   ]
  },
  {
   "cell_type": "code",
   "execution_count": 28,
   "id": "59fa7c89",
   "metadata": {},
   "outputs": [
    {
     "data": {
      "text/plain": [
       "numpy.int32"
      ]
     },
     "execution_count": 28,
     "metadata": {},
     "output_type": "execute_result"
    }
   ],
   "source": [
    "type(arr[0][1])"
   ]
  },
  {
   "cell_type": "code",
   "execution_count": 29,
   "id": "2bc3a30f",
   "metadata": {},
   "outputs": [],
   "source": [
    "mat = np.matrix(arr)"
   ]
  },
  {
   "cell_type": "code",
   "execution_count": 30,
   "id": "435bf994",
   "metadata": {},
   "outputs": [
    {
     "data": {
      "text/plain": [
       "matrix([[1, 3],\n",
       "        [2, 4]])"
      ]
     },
     "execution_count": 30,
     "metadata": {},
     "output_type": "execute_result"
    }
   ],
   "source": [
    "mat"
   ]
  },
  {
   "cell_type": "code",
   "execution_count": 31,
   "id": "1a0b67ef",
   "metadata": {},
   "outputs": [],
   "source": [
    "l = [3,4,5,76,7]"
   ]
  },
  {
   "cell_type": "code",
   "execution_count": 32,
   "id": "85904c51",
   "metadata": {},
   "outputs": [
    {
     "data": {
      "text/plain": [
       "array([ 3,  4,  5, 76,  7])"
      ]
     },
     "execution_count": 32,
     "metadata": {},
     "output_type": "execute_result"
    }
   ],
   "source": [
    "np.array(l)"
   ]
  },
  {
   "cell_type": "code",
   "execution_count": 33,
   "id": "cf1a7847",
   "metadata": {},
   "outputs": [
    {
     "data": {
      "text/plain": [
       "array([ 3,  4,  5, 76,  7])"
      ]
     },
     "execution_count": 33,
     "metadata": {},
     "output_type": "execute_result"
    }
   ],
   "source": [
    "np.asarray(l)"
   ]
  },
  {
   "cell_type": "code",
   "execution_count": 34,
   "id": "051de0c4",
   "metadata": {},
   "outputs": [
    {
     "data": {
      "text/plain": [
       "array([ 3,  4,  5, 76,  7])"
      ]
     },
     "execution_count": 34,
     "metadata": {},
     "output_type": "execute_result"
    }
   ],
   "source": [
    "np.asanyarray(l)"
   ]
  },
  {
   "cell_type": "code",
   "execution_count": 35,
   "id": "2690ef57",
   "metadata": {},
   "outputs": [
    {
     "data": {
      "text/plain": [
       "matrix([[1, 3],\n",
       "        [2, 4]])"
      ]
     },
     "execution_count": 35,
     "metadata": {},
     "output_type": "execute_result"
    }
   ],
   "source": [
    "np.asanyarray(mat)"
   ]
  },
  {
   "cell_type": "code",
   "execution_count": 36,
   "id": "30ac9230",
   "metadata": {},
   "outputs": [
    {
     "data": {
      "text/plain": [
       "array([[1, 3],\n",
       "       [2, 4]])"
      ]
     },
     "execution_count": 36,
     "metadata": {},
     "output_type": "execute_result"
    }
   ],
   "source": [
    "np.asarray(mat)"
   ]
  },
  {
   "cell_type": "code",
   "execution_count": 37,
   "id": "4a42338a",
   "metadata": {},
   "outputs": [
    {
     "data": {
      "text/plain": [
       "False"
      ]
     },
     "execution_count": 37,
     "metadata": {},
     "output_type": "execute_result"
    }
   ],
   "source": [
    "issubclass(np.ndarray,np.matrix )"
   ]
  },
  {
   "cell_type": "code",
   "execution_count": 38,
   "id": "2718e8c2",
   "metadata": {},
   "outputs": [
    {
     "data": {
      "text/plain": [
       "True"
      ]
     },
     "execution_count": 38,
     "metadata": {},
     "output_type": "execute_result"
    }
   ],
   "source": [
    "issubclass(np.matrix, np.ndarray)"
   ]
  },
  {
   "cell_type": "code",
   "execution_count": 39,
   "id": "2a7eadea",
   "metadata": {},
   "outputs": [
    {
     "data": {
      "text/plain": [
       "array([[1, 3],\n",
       "       [2, 4]])"
      ]
     },
     "execution_count": 39,
     "metadata": {},
     "output_type": "execute_result"
    }
   ],
   "source": [
    "arr"
   ]
  },
  {
   "cell_type": "code",
   "execution_count": 40,
   "id": "409983a7",
   "metadata": {},
   "outputs": [],
   "source": [
    "a= arr"
   ]
  },
  {
   "cell_type": "code",
   "execution_count": 41,
   "id": "d4c6630c",
   "metadata": {},
   "outputs": [],
   "source": [
    "b = np.copy(arr)"
   ]
  },
  {
   "cell_type": "code",
   "execution_count": 42,
   "id": "602122c6",
   "metadata": {},
   "outputs": [],
   "source": [
    "arr[0][0] = 67"
   ]
  },
  {
   "cell_type": "code",
   "execution_count": 43,
   "id": "a79cb2d8",
   "metadata": {},
   "outputs": [
    {
     "data": {
      "text/plain": [
       "array([[67,  3],\n",
       "       [ 2,  4]])"
      ]
     },
     "execution_count": 43,
     "metadata": {},
     "output_type": "execute_result"
    }
   ],
   "source": [
    "arr"
   ]
  },
  {
   "cell_type": "code",
   "execution_count": 44,
   "id": "33014662",
   "metadata": {},
   "outputs": [
    {
     "data": {
      "text/plain": [
       "array([[67,  3],\n",
       "       [ 2,  4]])"
      ]
     },
     "execution_count": 44,
     "metadata": {},
     "output_type": "execute_result"
    }
   ],
   "source": [
    "a"
   ]
  },
  {
   "cell_type": "code",
   "execution_count": 45,
   "id": "95ca2d56",
   "metadata": {},
   "outputs": [
    {
     "data": {
      "text/plain": [
       "array([[1, 3],\n",
       "       [2, 4]])"
      ]
     },
     "execution_count": 45,
     "metadata": {},
     "output_type": "execute_result"
    }
   ],
   "source": [
    "b"
   ]
  },
  {
   "cell_type": "code",
   "execution_count": 46,
   "id": "573b7c05",
   "metadata": {},
   "outputs": [
    {
     "data": {
      "text/plain": [
       "array([2, 4])"
      ]
     },
     "execution_count": 46,
     "metadata": {},
     "output_type": "execute_result"
    }
   ],
   "source": [
    "arr[-1]"
   ]
  },
  {
   "cell_type": "code",
   "execution_count": 47,
   "id": "b499db78",
   "metadata": {},
   "outputs": [
    {
     "name": "stdout",
     "output_type": "stream",
     "text": [
      "[67  3]\n",
      "[2 4]\n"
     ]
    }
   ],
   "source": [
    "for i in arr:\n",
    "    print(i)"
   ]
  },
  {
   "cell_type": "code",
   "execution_count": 50,
   "id": "37e6057b",
   "metadata": {},
   "outputs": [
    {
     "data": {
      "text/plain": [
       "array([[ True, False, False, False],\n",
       "       [False,  True, False, False],\n",
       "       [False, False,  True, False],\n",
       "       [False, False, False,  True]])"
      ]
     },
     "execution_count": 50,
     "metadata": {},
     "output_type": "execute_result"
    }
   ],
   "source": [
    "np.fromfunction(lambda i , j :i==j,(4,4))"
   ]
  },
  {
   "cell_type": "code",
   "execution_count": 51,
   "id": "de3dd729",
   "metadata": {},
   "outputs": [
    {
     "data": {
      "text/plain": [
       "array([[0., 0., 0.],\n",
       "       [0., 1., 2.],\n",
       "       [0., 2., 4.]])"
      ]
     },
     "execution_count": 51,
     "metadata": {},
     "output_type": "execute_result"
    }
   ],
   "source": [
    "np.fromfunction(lambda i , j :i*j,(3,3))"
   ]
  },
  {
   "cell_type": "code",
   "execution_count": 52,
   "id": "5d323a7d",
   "metadata": {},
   "outputs": [
    {
     "data": {
      "text/plain": [
       "array([[1., 0., 0.],\n",
       "       [1., 1., 1.],\n",
       "       [1., 2., 4.]])"
      ]
     },
     "execution_count": 52,
     "metadata": {},
     "output_type": "execute_result"
    }
   ],
   "source": [
    "np.fromfunction(lambda i , j :i**j,(3,3))"
   ]
  },
  {
   "cell_type": "code",
   "execution_count": 53,
   "id": "60610f17",
   "metadata": {},
   "outputs": [
    {
     "data": {
      "text/plain": [
       "array([[1., 0., 0.],\n",
       "       [1., 1., 1.],\n",
       "       [1., 2., 4.]])"
      ]
     },
     "execution_count": 53,
     "metadata": {},
     "output_type": "execute_result"
    }
   ],
   "source": [
    "np.fromfunction(lambda i , j: i**j, (3,3))"
   ]
  },
  {
   "cell_type": "code",
   "execution_count": 54,
   "id": "b350d33a",
   "metadata": {},
   "outputs": [
    {
     "name": "stderr",
     "output_type": "stream",
     "text": [
      "C:\\Users\\hp\\AppData\\Local\\Temp\\ipykernel_11508\\3987730787.py:2: RuntimeWarning: divide by zero encountered in true_divide\n",
      "  np.fromfunction(lambda i, j: i/j, (3,3))\n",
      "C:\\Users\\hp\\AppData\\Local\\Temp\\ipykernel_11508\\3987730787.py:2: RuntimeWarning: invalid value encountered in true_divide\n",
      "  np.fromfunction(lambda i, j: i/j, (3,3))\n"
     ]
    },
    {
     "data": {
      "text/plain": [
       "array([[nan, 0. , 0. ],\n",
       "       [inf, 1. , 0.5],\n",
       "       [inf, 2. , 1. ]])"
      ]
     },
     "execution_count": 54,
     "metadata": {},
     "output_type": "execute_result"
    }
   ],
   "source": [
    "# np.fromfunction(lambda i , j :i/j,(3,3))\n",
    "np.fromfunction(lambda i, j: i/j, (3,3))"
   ]
  },
  {
   "cell_type": "code",
   "execution_count": 55,
   "id": "71f4a545",
   "metadata": {},
   "outputs": [],
   "source": [
    "gen = (i*i for i in range(5))"
   ]
  },
  {
   "cell_type": "code",
   "execution_count": 56,
   "id": "b32b3199",
   "metadata": {},
   "outputs": [],
   "source": [
    "list = [i*i for i in range(5)]"
   ]
  },
  {
   "cell_type": "code",
   "execution_count": 57,
   "id": "2a24954f",
   "metadata": {},
   "outputs": [
    {
     "data": {
      "text/plain": [
       "[0, 1, 4, 9, 16]"
      ]
     },
     "execution_count": 57,
     "metadata": {},
     "output_type": "execute_result"
    }
   ],
   "source": [
    "list"
   ]
  },
  {
   "cell_type": "code",
   "execution_count": 58,
   "id": "22bbceaa",
   "metadata": {},
   "outputs": [
    {
     "data": {
      "text/plain": [
       "<generator object <genexpr> at 0x0000024E10CD3F20>"
      ]
     },
     "execution_count": 58,
     "metadata": {},
     "output_type": "execute_result"
    }
   ],
   "source": [
    "gen"
   ]
  },
  {
   "cell_type": "code",
   "execution_count": 59,
   "id": "723d6413",
   "metadata": {},
   "outputs": [
    {
     "name": "stdout",
     "output_type": "stream",
     "text": [
      "0\n",
      "1\n",
      "4\n",
      "9\n",
      "16\n"
     ]
    }
   ],
   "source": [
    "for i in gen: \n",
    "    print(i)"
   ]
  },
  {
   "cell_type": "code",
   "execution_count": 60,
   "id": "3c503fb7",
   "metadata": {},
   "outputs": [],
   "source": [
    "def test(x):\n",
    "    yield x "
   ]
  },
  {
   "cell_type": "code",
   "execution_count": 61,
   "id": "bc08ee8f",
   "metadata": {},
   "outputs": [
    {
     "data": {
      "text/plain": [
       "<generator object test at 0x0000024E10CD8580>"
      ]
     },
     "execution_count": 61,
     "metadata": {},
     "output_type": "execute_result"
    }
   ],
   "source": [
    "test(5)"
   ]
  },
  {
   "cell_type": "code",
   "execution_count": 62,
   "id": "9d3a90dc",
   "metadata": {},
   "outputs": [
    {
     "name": "stdout",
     "output_type": "stream",
     "text": [
      "5\n"
     ]
    }
   ],
   "source": [
    "for i in test(5):\n",
    "    print(i)"
   ]
  },
  {
   "cell_type": "code",
   "execution_count": 63,
   "id": "eb411945",
   "metadata": {},
   "outputs": [],
   "source": [
    "gen\n",
    "for i in gen :\n",
    "    print(i)"
   ]
  },
  {
   "cell_type": "code",
   "execution_count": 65,
   "id": "f805b52a",
   "metadata": {},
   "outputs": [],
   "source": [
    "a = np.fromiter(range(5),dtype= int)"
   ]
  },
  {
   "cell_type": "code",
   "execution_count": 66,
   "id": "15b61735",
   "metadata": {},
   "outputs": [
    {
     "data": {
      "text/plain": [
       "array([0, 1, 2, 3, 4])"
      ]
     },
     "execution_count": 66,
     "metadata": {},
     "output_type": "execute_result"
    }
   ],
   "source": [
    "a"
   ]
  },
  {
   "cell_type": "code",
   "execution_count": 67,
   "id": "10f64e72",
   "metadata": {},
   "outputs": [
    {
     "data": {
      "text/plain": [
       "numpy.ndarray"
      ]
     },
     "execution_count": 67,
     "metadata": {},
     "output_type": "execute_result"
    }
   ],
   "source": [
    "type(a)"
   ]
  },
  {
   "cell_type": "code",
   "execution_count": 68,
   "id": "2cccacf8",
   "metadata": {},
   "outputs": [
    {
     "data": {
      "text/plain": [
       "array([1, 3, 4, 5, 5])"
      ]
     },
     "execution_count": 68,
     "metadata": {},
     "output_type": "execute_result"
    }
   ],
   "source": [
    "np.fromstring('1,3,4,5,5' , sep = ',', dtype= int)"
   ]
  },
  {
   "cell_type": "code",
   "execution_count": 69,
   "id": "1ea4f992",
   "metadata": {},
   "outputs": [
    {
     "data": {
      "text/plain": [
       "array([  456.+0.j,   456.+0.j,  3454.+0.j, 34543.+0.j])"
      ]
     },
     "execution_count": 69,
     "metadata": {},
     "output_type": "execute_result"
    }
   ],
   "source": [
    "np.fromstring(\"456 456 3454 34543\" ,sep = ' ', dtype= complex)"
   ]
  },
  {
   "cell_type": "code",
   "execution_count": 70,
   "id": "cd3594bd",
   "metadata": {},
   "outputs": [],
   "source": [
    "l = [3,4,5,6,7,8]"
   ]
  },
  {
   "cell_type": "code",
   "execution_count": 71,
   "id": "dfe0d623",
   "metadata": {},
   "outputs": [],
   "source": [
    "arr = np.array(l)"
   ]
  },
  {
   "cell_type": "code",
   "execution_count": 72,
   "id": "013e42d8",
   "metadata": {},
   "outputs": [],
   "source": [
    "arr1 = np.array([[1,2,3,4] , [2,3,4,5] , [4,5,6,7]])"
   ]
  },
  {
   "cell_type": "code",
   "execution_count": 73,
   "id": "1513a636",
   "metadata": {},
   "outputs": [
    {
     "data": {
      "text/plain": [
       "array([[1, 2, 3, 4],\n",
       "       [2, 3, 4, 5],\n",
       "       [4, 5, 6, 7]])"
      ]
     },
     "execution_count": 73,
     "metadata": {},
     "output_type": "execute_result"
    }
   ],
   "source": [
    "arr1"
   ]
  },
  {
   "cell_type": "code",
   "execution_count": 74,
   "id": "45bf3d16",
   "metadata": {},
   "outputs": [
    {
     "data": {
      "text/plain": [
       "numpy.ndarray"
      ]
     },
     "execution_count": 74,
     "metadata": {},
     "output_type": "execute_result"
    }
   ],
   "source": [
    "type(arr1)"
   ]
  },
  {
   "cell_type": "code",
   "execution_count": 75,
   "id": "104ecc06",
   "metadata": {},
   "outputs": [
    {
     "data": {
      "text/plain": [
       "2"
      ]
     },
     "execution_count": 75,
     "metadata": {},
     "output_type": "execute_result"
    }
   ],
   "source": [
    "arr1.ndim"
   ]
  },
  {
   "cell_type": "code",
   "execution_count": 76,
   "id": "6a0752df",
   "metadata": {},
   "outputs": [
    {
     "data": {
      "text/plain": [
       "12"
      ]
     },
     "execution_count": 76,
     "metadata": {},
     "output_type": "execute_result"
    }
   ],
   "source": [
    "arr1.size"
   ]
  },
  {
   "cell_type": "code",
   "execution_count": 77,
   "id": "ca2b5e96",
   "metadata": {},
   "outputs": [
    {
     "data": {
      "text/plain": [
       "(3, 4)"
      ]
     },
     "execution_count": 77,
     "metadata": {},
     "output_type": "execute_result"
    }
   ],
   "source": [
    "arr1.shape\n"
   ]
  },
  {
   "cell_type": "code",
   "execution_count": 78,
   "id": "74dd4d46",
   "metadata": {},
   "outputs": [
    {
     "data": {
      "text/plain": [
       "dtype('int32')"
      ]
     },
     "execution_count": 78,
     "metadata": {},
     "output_type": "execute_result"
    }
   ],
   "source": [
    "arr1.dtype"
   ]
  },
  {
   "cell_type": "code",
   "execution_count": 79,
   "id": "c3b474a8",
   "metadata": {},
   "outputs": [
    {
     "data": {
      "text/plain": [
       "array([3, 4, 5, 6, 7, 8])"
      ]
     },
     "execution_count": 79,
     "metadata": {},
     "output_type": "execute_result"
    }
   ],
   "source": [
    "arr"
   ]
  },
  {
   "cell_type": "code",
   "execution_count": 80,
   "id": "6bc844db",
   "metadata": {},
   "outputs": [
    {
     "data": {
      "text/plain": [
       "6"
      ]
     },
     "execution_count": 80,
     "metadata": {},
     "output_type": "execute_result"
    }
   ],
   "source": [
    "arr.size"
   ]
  },
  {
   "cell_type": "code",
   "execution_count": 81,
   "id": "89193923",
   "metadata": {},
   "outputs": [
    {
     "data": {
      "text/plain": [
       "1"
      ]
     },
     "execution_count": 81,
     "metadata": {},
     "output_type": "execute_result"
    }
   ],
   "source": [
    "arr.ndim"
   ]
  },
  {
   "cell_type": "code",
   "execution_count": 82,
   "id": "f6a6f5bb",
   "metadata": {},
   "outputs": [
    {
     "data": {
      "text/plain": [
       "(6,)"
      ]
     },
     "execution_count": 82,
     "metadata": {},
     "output_type": "execute_result"
    }
   ],
   "source": [
    "arr.shape"
   ]
  },
  {
   "cell_type": "code",
   "execution_count": 83,
   "id": "c3285b90",
   "metadata": {},
   "outputs": [],
   "source": [
    "arr2 = np.array([[[1,2,3,4],[4,5,6,7]],[[1,2,3,4],[4,5,6,7]]])"
   ]
  },
  {
   "cell_type": "code",
   "execution_count": 84,
   "id": "8fdc53ec",
   "metadata": {},
   "outputs": [
    {
     "data": {
      "text/plain": [
       "array([[[1, 2, 3, 4],\n",
       "        [4, 5, 6, 7]],\n",
       "\n",
       "       [[1, 2, 3, 4],\n",
       "        [4, 5, 6, 7]]])"
      ]
     },
     "execution_count": 84,
     "metadata": {},
     "output_type": "execute_result"
    }
   ],
   "source": [
    "arr2\n"
   ]
  },
  {
   "cell_type": "code",
   "execution_count": 85,
   "id": "ca3acf6b",
   "metadata": {},
   "outputs": [
    {
     "data": {
      "text/plain": [
       "16"
      ]
     },
     "execution_count": 85,
     "metadata": {},
     "output_type": "execute_result"
    }
   ],
   "source": [
    "arr2.size"
   ]
  },
  {
   "cell_type": "code",
   "execution_count": 86,
   "id": "323dd6fe",
   "metadata": {},
   "outputs": [
    {
     "data": {
      "text/plain": [
       "3"
      ]
     },
     "execution_count": 86,
     "metadata": {},
     "output_type": "execute_result"
    }
   ],
   "source": [
    "arr2.ndim"
   ]
  },
  {
   "cell_type": "code",
   "execution_count": 87,
   "id": "61931e57",
   "metadata": {},
   "outputs": [
    {
     "data": {
      "text/plain": [
       "(2, 2, 4)"
      ]
     },
     "execution_count": 87,
     "metadata": {},
     "output_type": "execute_result"
    }
   ],
   "source": [
    "arr2.shape"
   ]
  },
  {
   "cell_type": "code",
   "execution_count": 88,
   "id": "a3c697d5",
   "metadata": {},
   "outputs": [],
   "source": [
    "arr4 = np.array([[[[1,2,3,4],[4,5,6,7]],[[1,2,3,4],[4,5,6,7]],[[1,2,3,4],[4,5,6,7]],[[1,2,3,4],[4,5,6,7]]]])"
   ]
  },
  {
   "cell_type": "code",
   "execution_count": 89,
   "id": "4e67f721",
   "metadata": {},
   "outputs": [
    {
     "data": {
      "text/plain": [
       "array([[[[1, 2, 3, 4],\n",
       "         [4, 5, 6, 7]],\n",
       "\n",
       "        [[1, 2, 3, 4],\n",
       "         [4, 5, 6, 7]],\n",
       "\n",
       "        [[1, 2, 3, 4],\n",
       "         [4, 5, 6, 7]],\n",
       "\n",
       "        [[1, 2, 3, 4],\n",
       "         [4, 5, 6, 7]]]])"
      ]
     },
     "execution_count": 89,
     "metadata": {},
     "output_type": "execute_result"
    }
   ],
   "source": [
    "arr4"
   ]
  },
  {
   "cell_type": "code",
   "execution_count": 90,
   "id": "fe9b8f5d",
   "metadata": {},
   "outputs": [
    {
     "data": {
      "text/plain": [
       "4"
      ]
     },
     "execution_count": 90,
     "metadata": {},
     "output_type": "execute_result"
    }
   ],
   "source": [
    "arr4.ndim"
   ]
  },
  {
   "cell_type": "code",
   "execution_count": 91,
   "id": "dc901963",
   "metadata": {},
   "outputs": [
    {
     "data": {
      "text/plain": [
       "(1, 4, 2, 4)"
      ]
     },
     "execution_count": 91,
     "metadata": {},
     "output_type": "execute_result"
    }
   ],
   "source": [
    "arr4.shape"
   ]
  },
  {
   "cell_type": "code",
   "execution_count": 92,
   "id": "b2ad2e01",
   "metadata": {},
   "outputs": [
    {
     "ename": "TypeError",
     "evalue": "'float' object cannot be interpreted as an integer",
     "output_type": "error",
     "traceback": [
      "\u001b[1;31m---------------------------------------------------------------------------\u001b[0m",
      "\u001b[1;31mTypeError\u001b[0m                                 Traceback (most recent call last)",
      "Input \u001b[1;32mIn [92]\u001b[0m, in \u001b[0;36m<cell line: 1>\u001b[1;34m()\u001b[0m\n\u001b[1;32m----> 1\u001b[0m \u001b[38;5;28mlist\u001b[39m(\u001b[38;5;28;43mrange\u001b[39;49m\u001b[43m(\u001b[49m\u001b[38;5;241;43m6.6\u001b[39;49m\u001b[43m,\u001b[49m\u001b[38;5;241;43m9\u001b[39;49m\u001b[43m,\u001b[49m\u001b[38;5;241;43m.3\u001b[39;49m\u001b[43m)\u001b[49m)\n",
      "\u001b[1;31mTypeError\u001b[0m: 'float' object cannot be interpreted as an integer"
     ]
    }
   ],
   "source": [
    "list(range(6.6,9,.3))"
   ]
  },
  {
   "cell_type": "code",
   "execution_count": 93,
   "id": "14fef32f",
   "metadata": {},
   "outputs": [
    {
     "data": {
      "text/plain": [
       "array([9. , 8.7, 8.4, 8.1, 7.8, 7.5, 7.2, 6.9, 6.6])"
      ]
     },
     "execution_count": 93,
     "metadata": {},
     "output_type": "execute_result"
    }
   ],
   "source": [
    "np.arange(9,6.6,-.3)"
   ]
  },
  {
   "cell_type": "code",
   "execution_count": 94,
   "id": "dc5a5fb1",
   "metadata": {},
   "outputs": [
    {
     "data": {
      "text/plain": [
       "array([1, 2, 3, 4, 5, 6, 7, 8])"
      ]
     },
     "execution_count": 94,
     "metadata": {},
     "output_type": "execute_result"
    }
   ],
   "source": [
    "np.arange(1,9)"
   ]
  },
  {
   "cell_type": "code",
   "execution_count": 95,
   "id": "859b7bd1",
   "metadata": {},
   "outputs": [
    {
     "data": {
      "text/plain": [
       "array([ 1.  ,  3.25,  5.5 ,  7.75, 10.  ])"
      ]
     },
     "execution_count": 95,
     "metadata": {},
     "output_type": "execute_result"
    }
   ],
   "source": [
    "np.linspace(1,10,5)"
   ]
  },
  {
   "cell_type": "code",
   "execution_count": 96,
   "id": "2b25b1d3",
   "metadata": {},
   "outputs": [
    {
     "data": {
      "text/plain": [
       "array([0., 0., 0., 0., 0.])"
      ]
     },
     "execution_count": 96,
     "metadata": {},
     "output_type": "execute_result"
    }
   ],
   "source": [
    "np.zeros(5)"
   ]
  },
  {
   "cell_type": "code",
   "execution_count": 97,
   "id": "68393a3b",
   "metadata": {},
   "outputs": [
    {
     "data": {
      "text/plain": [
       "array([[[0., 0., 0., 0.],\n",
       "        [0., 0., 0., 0.],\n",
       "        [0., 0., 0., 0.],\n",
       "        [0., 0., 0., 0.],\n",
       "        [0., 0., 0., 0.]],\n",
       "\n",
       "       [[0., 0., 0., 0.],\n",
       "        [0., 0., 0., 0.],\n",
       "        [0., 0., 0., 0.],\n",
       "        [0., 0., 0., 0.],\n",
       "        [0., 0., 0., 0.]]])"
      ]
     },
     "execution_count": 97,
     "metadata": {},
     "output_type": "execute_result"
    }
   ],
   "source": [
    "np.zeros((2,5,4))"
   ]
  },
  {
   "cell_type": "code",
   "execution_count": 98,
   "id": "1ff2ffbd",
   "metadata": {},
   "outputs": [
    {
     "data": {
      "text/plain": [
       "array([1., 1., 1., 1.])"
      ]
     },
     "execution_count": 98,
     "metadata": {},
     "output_type": "execute_result"
    }
   ],
   "source": [
    "np.ones(4)"
   ]
  },
  {
   "cell_type": "code",
   "execution_count": 99,
   "id": "0f7bc37b",
   "metadata": {},
   "outputs": [
    {
     "data": {
      "text/plain": [
       "array([[[6.],\n",
       "        [6.],\n",
       "        [6.]],\n",
       "\n",
       "       [[6.],\n",
       "        [6.],\n",
       "        [6.]]])"
      ]
     },
     "execution_count": 99,
     "metadata": {},
     "output_type": "execute_result"
    }
   ],
   "source": [
    "np.ones((2,3,1))+5"
   ]
  },
  {
   "cell_type": "code",
   "execution_count": 100,
   "id": "72a40942",
   "metadata": {},
   "outputs": [
    {
     "data": {
      "text/plain": [
       "array([0., 0., 0., 0., 0.])"
      ]
     },
     "execution_count": 100,
     "metadata": {},
     "output_type": "execute_result"
    }
   ],
   "source": [
    "np.empty(5)"
   ]
  },
  {
   "cell_type": "code",
   "execution_count": 101,
   "id": "0efbdd50",
   "metadata": {},
   "outputs": [
    {
     "data": {
      "text/plain": [
       "array([[1.25210425e-311, 3.16202013e-322, 0.00000000e+000,\n",
       "        0.00000000e+000],\n",
       "       [1.12465777e-312, 2.35825462e+184, 6.39826859e+170,\n",
       "        8.38260779e+169],\n",
       "       [8.07307204e+169, 3.53977845e-057, 6.18338309e+169,\n",
       "        1.46317498e-047]])"
      ]
     },
     "execution_count": 101,
     "metadata": {},
     "output_type": "execute_result"
    }
   ],
   "source": [
    "np.empty((3,4))"
   ]
  },
  {
   "cell_type": "code",
   "execution_count": 102,
   "id": "c1ef10f0",
   "metadata": {},
   "outputs": [
    {
     "data": {
      "text/plain": [
       "array([[1., 0., 0.],\n",
       "       [0., 1., 0.],\n",
       "       [0., 0., 1.]])"
      ]
     },
     "execution_count": 102,
     "metadata": {},
     "output_type": "execute_result"
    }
   ],
   "source": [
    "np.eye(3)"
   ]
  },
  {
   "cell_type": "code",
   "execution_count": 103,
   "id": "3d898f98",
   "metadata": {},
   "outputs": [
    {
     "data": {
      "text/plain": [
       "array([[1.  , 1.06, 1.12, 1.18, 1.24, 1.3 , 1.36, 1.42, 1.48, 1.54, 1.6 ,\n",
       "        1.66, 1.72, 1.78, 1.84, 1.9 , 1.96, 2.02, 2.08, 2.14, 2.2 , 2.26,\n",
       "        2.32, 2.38, 2.44, 2.5 , 2.56, 2.62, 2.68, 2.74, 2.8 , 2.86, 2.92,\n",
       "        2.98, 3.04, 3.1 , 3.16, 3.22, 3.28, 3.34, 3.4 , 3.46, 3.52, 3.58,\n",
       "        3.64, 3.7 , 3.76, 3.82, 3.88, 3.94],\n",
       "       [6.  , 5.96, 5.92, 5.88, 5.84, 5.8 , 5.76, 5.72, 5.68, 5.64, 5.6 ,\n",
       "        5.56, 5.52, 5.48, 5.44, 5.4 , 5.36, 5.32, 5.28, 5.24, 5.2 , 5.16,\n",
       "        5.12, 5.08, 5.04, 5.  , 4.96, 4.92, 4.88, 4.84, 4.8 , 4.76, 4.72,\n",
       "        4.68, 4.64, 4.6 , 4.56, 4.52, 4.48, 4.44, 4.4 , 4.36, 4.32, 4.28,\n",
       "        4.24, 4.2 , 4.16, 4.12, 4.08, 4.04]])"
      ]
     },
     "execution_count": 103,
     "metadata": {},
     "output_type": "execute_result"
    }
   ],
   "source": [
    "np.linspace([1,6],4,endpoint=False,axis=1)"
   ]
  },
  {
   "cell_type": "code",
   "execution_count": 104,
   "id": "21202f4b",
   "metadata": {},
   "outputs": [
    {
     "data": {
      "text/plain": [
       "array([[ 100.        ],\n",
       "       [ 104.81131342],\n",
       "       [ 109.8541142 ],\n",
       "       [ 115.13953993],\n",
       "       [ 120.67926406],\n",
       "       [ 126.48552169],\n",
       "       [ 132.57113656],\n",
       "       [ 138.94954944],\n",
       "       [ 145.63484775],\n",
       "       [ 152.64179672],\n",
       "       [ 159.98587196],\n",
       "       [ 167.68329368],\n",
       "       [ 175.75106249],\n",
       "       [ 184.20699693],\n",
       "       [ 193.06977289],\n",
       "       [ 202.35896477],\n",
       "       [ 212.09508879],\n",
       "       [ 222.29964825],\n",
       "       [ 232.99518105],\n",
       "       [ 244.20530945],\n",
       "       [ 255.95479227],\n",
       "       [ 268.26957953],\n",
       "       [ 281.1768698 ],\n",
       "       [ 294.70517026],\n",
       "       [ 308.88435965],\n",
       "       [ 323.74575428],\n",
       "       [ 339.32217719],\n",
       "       [ 355.64803062],\n",
       "       [ 372.75937203],\n",
       "       [ 390.69399371],\n",
       "       [ 409.49150624],\n",
       "       [ 429.19342601],\n",
       "       [ 449.8432669 ],\n",
       "       [ 471.48663635],\n",
       "       [ 494.17133613],\n",
       "       [ 517.94746792],\n",
       "       [ 542.86754393],\n",
       "       [ 568.9866029 ],\n",
       "       [ 596.36233166],\n",
       "       [ 625.05519253],\n",
       "       [ 655.12855686],\n",
       "       [ 686.648845  ],\n",
       "       [ 719.685673  ],\n",
       "       [ 754.31200634],\n",
       "       [ 790.60432109],\n",
       "       [ 828.64277285],\n",
       "       [ 868.51137375],\n",
       "       [ 910.29817799],\n",
       "       [ 954.09547635],\n",
       "       [1000.        ]])"
      ]
     },
     "execution_count": 104,
     "metadata": {},
     "output_type": "execute_result"
    }
   ],
   "source": [
    "np.logspace([2],[3] , axis = 0)"
   ]
  },
  {
   "cell_type": "code",
   "execution_count": 105,
   "id": "f9a559d6",
   "metadata": {},
   "outputs": [],
   "source": [
    "d = np.linspace(4,7,40)\n",
    "\n"
   ]
  },
  {
   "cell_type": "code",
   "execution_count": 106,
   "id": "70019f7d",
   "metadata": {},
   "outputs": [
    {
     "data": {
      "text/plain": [
       "1"
      ]
     },
     "execution_count": 106,
     "metadata": {},
     "output_type": "execute_result"
    }
   ],
   "source": [
    "d.ndim"
   ]
  },
  {
   "cell_type": "code",
   "execution_count": 107,
   "id": "14f859b9",
   "metadata": {},
   "outputs": [
    {
     "data": {
      "text/plain": [
       "(40,)"
      ]
     },
     "execution_count": 107,
     "metadata": {},
     "output_type": "execute_result"
    }
   ],
   "source": [
    "d.shape"
   ]
  },
  {
   "cell_type": "code",
   "execution_count": 108,
   "id": "46f18900",
   "metadata": {},
   "outputs": [
    {
     "data": {
      "text/plain": [
       "array([[[4.        , 4.07692308, 4.15384615, 4.23076923, 4.30769231,\n",
       "         4.38461538, 4.46153846, 4.53846154, 4.61538462, 4.69230769],\n",
       "        [4.76923077, 4.84615385, 4.92307692, 5.        , 5.07692308,\n",
       "         5.15384615, 5.23076923, 5.30769231, 5.38461538, 5.46153846],\n",
       "        [5.53846154, 5.61538462, 5.69230769, 5.76923077, 5.84615385,\n",
       "         5.92307692, 6.        , 6.07692308, 6.15384615, 6.23076923],\n",
       "        [6.30769231, 6.38461538, 6.46153846, 6.53846154, 6.61538462,\n",
       "         6.69230769, 6.76923077, 6.84615385, 6.92307692, 7.        ]]])"
      ]
     },
     "execution_count": 108,
     "metadata": {},
     "output_type": "execute_result"
    }
   ],
   "source": [
    "d.reshape(1,4,10)"
   ]
  },
  {
   "cell_type": "code",
   "execution_count": 109,
   "id": "62438335",
   "metadata": {},
   "outputs": [
    {
     "data": {
      "text/plain": [
       "array([   100.        ,    215.443469  ,    464.15888336,   1000.        ,\n",
       "         2154.43469003,   4641.58883361,  10000.        ,  21544.34690032,\n",
       "        46415.88833613, 100000.        ])"
      ]
     },
     "execution_count": 109,
     "metadata": {},
     "output_type": "execute_result"
    }
   ],
   "source": [
    "np.logspace(2,5,10)\n"
   ]
  },
  {
   "cell_type": "code",
   "execution_count": 110,
   "id": "0c0b5bf8",
   "metadata": {},
   "outputs": [
    {
     "data": {
      "text/plain": [
       "array([0.05158748, 0.09990101, 0.8413985 ])"
      ]
     },
     "execution_count": 110,
     "metadata": {},
     "output_type": "execute_result"
    }
   ],
   "source": [
    "np.random.rand(3)"
   ]
  },
  {
   "cell_type": "code",
   "execution_count": 111,
   "id": "5cc9565d",
   "metadata": {},
   "outputs": [
    {
     "data": {
      "text/plain": [
       "array([0.59143642, 0.659072  , 0.15201067])"
      ]
     },
     "execution_count": 111,
     "metadata": {},
     "output_type": "execute_result"
    }
   ],
   "source": [
    "np.random.rand(3)"
   ]
  },
  {
   "cell_type": "code",
   "execution_count": 112,
   "id": "37859649",
   "metadata": {},
   "outputs": [
    {
     "data": {
      "text/plain": [
       "array([ 1.89453844, -0.19305862, -0.06462979, -0.17762003,  1.21820794])"
      ]
     },
     "execution_count": 112,
     "metadata": {},
     "output_type": "execute_result"
    }
   ],
   "source": [
    "np.random.randn(5)"
   ]
  },
  {
   "cell_type": "code",
   "execution_count": 113,
   "id": "9db65a26",
   "metadata": {},
   "outputs": [
    {
     "data": {
      "text/plain": [
       "array([[[ 0.52422973,  1.66156616,  1.26408486],\n",
       "        [-0.94642716,  0.11890328,  0.62341825]],\n",
       "\n",
       "       [[ 0.42864579, -2.40473509,  1.07130014],\n",
       "        [-0.63376528,  1.1445563 , -1.7508841 ]]])"
      ]
     },
     "execution_count": 113,
     "metadata": {},
     "output_type": "execute_result"
    }
   ],
   "source": [
    "np.random.randn(2,2,3)"
   ]
  },
  {
   "cell_type": "code",
   "execution_count": 114,
   "id": "276ba0d8",
   "metadata": {},
   "outputs": [
    {
     "data": {
      "text/plain": [
       "array([[20, 56,  8, 27],\n",
       "       [40, 57, 49, 27],\n",
       "       [19, 50, 35, 35],\n",
       "       [25, 41, 28, 53]])"
      ]
     },
     "execution_count": 114,
     "metadata": {},
     "output_type": "execute_result"
    }
   ],
   "source": [
    "np.random.randint(5,60, (4,4))"
   ]
  },
  {
   "cell_type": "code",
   "execution_count": 115,
   "id": "81373ab4",
   "metadata": {},
   "outputs": [
    {
     "data": {
      "text/plain": [
       "array([[[-0.08798871, -1.66900643, -0.29742722],\n",
       "        [-1.42824192, -0.83036347, -0.18877811]],\n",
       "\n",
       "       [[ 0.63830133, -0.12087675, -2.36235346],\n",
       "        [-0.54698739,  0.32171238, -0.08813714]]])"
      ]
     },
     "execution_count": 115,
     "metadata": {},
     "output_type": "execute_result"
    }
   ],
   "source": [
    "np.random.randn(2,2,3)"
   ]
  },
  {
   "cell_type": "code",
   "execution_count": 116,
   "id": "c5337b06",
   "metadata": {},
   "outputs": [],
   "source": [
    "arr = np.random.randint(3,9, ( 3,3))"
   ]
  },
  {
   "cell_type": "code",
   "execution_count": 117,
   "id": "d4699e40",
   "metadata": {},
   "outputs": [
    {
     "data": {
      "text/plain": [
       "array([[6, 8, 8],\n",
       "       [7, 6, 4],\n",
       "       [5, 5, 3]])"
      ]
     },
     "execution_count": 117,
     "metadata": {},
     "output_type": "execute_result"
    }
   ],
   "source": [
    "arr"
   ]
  },
  {
   "cell_type": "code",
   "execution_count": 118,
   "id": "c132f1bc",
   "metadata": {},
   "outputs": [
    {
     "data": {
      "text/plain": [
       "array([[6, 8, 8, 7, 6, 4, 5, 5, 3]])"
      ]
     },
     "execution_count": 118,
     "metadata": {},
     "output_type": "execute_result"
    }
   ],
   "source": [
    "arr.reshape(1,9)"
   ]
  },
  {
   "cell_type": "code",
   "execution_count": 119,
   "id": "cda3633a",
   "metadata": {},
   "outputs": [
    {
     "data": {
      "text/plain": [
       "array([[6],\n",
       "       [8],\n",
       "       [8],\n",
       "       [7],\n",
       "       [6],\n",
       "       [4],\n",
       "       [5],\n",
       "       [5],\n",
       "       [3]])"
      ]
     },
     "execution_count": 119,
     "metadata": {},
     "output_type": "execute_result"
    }
   ],
   "source": [
    "arr.reshape(9,1)"
   ]
  },
  {
   "cell_type": "code",
   "execution_count": 120,
   "id": "c3402169",
   "metadata": {},
   "outputs": [
    {
     "data": {
      "text/plain": [
       "array([[[6, 8, 8, 7, 6, 4, 5, 5, 3]]])"
      ]
     },
     "execution_count": 120,
     "metadata": {},
     "output_type": "execute_result"
    }
   ],
   "source": [
    "arr.reshape(1,1,9)"
   ]
  },
  {
   "cell_type": "code",
   "execution_count": 121,
   "id": "65c2aeb3",
   "metadata": {},
   "outputs": [
    {
     "data": {
      "text/plain": [
       "array([[[6],\n",
       "        [8],\n",
       "        [8]],\n",
       "\n",
       "       [[7],\n",
       "        [6],\n",
       "        [4]],\n",
       "\n",
       "       [[5],\n",
       "        [5],\n",
       "        [3]]])"
      ]
     },
     "execution_count": 121,
     "metadata": {},
     "output_type": "execute_result"
    }
   ],
   "source": [
    "arr.reshape(3,3,1)\n"
   ]
  },
  {
   "cell_type": "code",
   "execution_count": 123,
   "id": "270bc809",
   "metadata": {},
   "outputs": [
    {
     "data": {
      "text/plain": [
       "array([[[6],\n",
       "        [8],\n",
       "        [8]],\n",
       "\n",
       "       [[7],\n",
       "        [6],\n",
       "        [4]],\n",
       "\n",
       "       [[5],\n",
       "        [5],\n",
       "        [3]]])"
      ]
     },
     "execution_count": 123,
     "metadata": {},
     "output_type": "execute_result"
    }
   ],
   "source": [
    "arr.reshape(3,3, -198979)"
   ]
  },
  {
   "cell_type": "code",
   "execution_count": 124,
   "id": "74dc5c34",
   "metadata": {},
   "outputs": [
    {
     "data": {
      "text/plain": [
       "array([[6, 8, 8, 7, 6, 4, 5, 5, 3]])"
      ]
     },
     "execution_count": 124,
     "metadata": {},
     "output_type": "execute_result"
    }
   ],
   "source": [
    "arr.reshape(1,-145654656)"
   ]
  },
  {
   "cell_type": "code",
   "execution_count": 125,
   "id": "069061ee",
   "metadata": {},
   "outputs": [
    {
     "data": {
      "text/plain": [
       "array([[6, 8, 8],\n",
       "       [7, 6, 4],\n",
       "       [5, 5, 3]])"
      ]
     },
     "execution_count": 125,
     "metadata": {},
     "output_type": "execute_result"
    }
   ],
   "source": [
    "arr"
   ]
  },
  {
   "cell_type": "code",
   "execution_count": 126,
   "id": "4ef2ec0a",
   "metadata": {},
   "outputs": [
    {
     "data": {
      "text/plain": [
       "8"
      ]
     },
     "execution_count": 126,
     "metadata": {},
     "output_type": "execute_result"
    }
   ],
   "source": [
    "arr.max()"
   ]
  },
  {
   "cell_type": "code",
   "execution_count": 127,
   "id": "2c5910ae",
   "metadata": {},
   "outputs": [
    {
     "data": {
      "text/plain": [
       "3"
      ]
     },
     "execution_count": 127,
     "metadata": {},
     "output_type": "execute_result"
    }
   ],
   "source": [
    "arr.min()"
   ]
  },
  {
   "cell_type": "code",
   "execution_count": 128,
   "id": "63267256",
   "metadata": {},
   "outputs": [],
   "source": [
    "arr = np.random.randint(4,100, (5,5))"
   ]
  },
  {
   "cell_type": "code",
   "execution_count": 129,
   "id": "1f152df0",
   "metadata": {},
   "outputs": [
    {
     "data": {
      "text/plain": [
       "array([[72, 75, 85, 54, 61],\n",
       "       [40, 88, 15, 11, 91],\n",
       "       [ 5, 79, 80, 57, 25],\n",
       "       [84, 59, 28, 52, 34],\n",
       "       [53, 80, 97, 58, 78]])"
      ]
     },
     "execution_count": 129,
     "metadata": {},
     "output_type": "execute_result"
    }
   ],
   "source": [
    "arr"
   ]
  },
  {
   "cell_type": "code",
   "execution_count": 130,
   "id": "c91d4dd5",
   "metadata": {},
   "outputs": [
    {
     "data": {
      "text/plain": [
       "array([[52, 34],\n",
       "       [58, 78]])"
      ]
     },
     "execution_count": 130,
     "metadata": {},
     "output_type": "execute_result"
    }
   ],
   "source": [
    "arr[3: , 3:]"
   ]
  },
  {
   "cell_type": "code",
   "execution_count": 131,
   "id": "27778f5e",
   "metadata": {},
   "outputs": [
    {
     "data": {
      "text/plain": [
       "array([[75, 54],\n",
       "       [88, 11],\n",
       "       [79, 57],\n",
       "       [59, 52],\n",
       "       [80, 58]])"
      ]
     },
     "execution_count": 131,
     "metadata": {},
     "output_type": "execute_result"
    }
   ],
   "source": [
    "arr[:,[1,3]]"
   ]
  },
  {
   "cell_type": "code",
   "execution_count": 132,
   "id": "6d2461d3",
   "metadata": {},
   "outputs": [
    {
     "data": {
      "text/plain": [
       "array([[72, 75, 85, 54, 61],\n",
       "       [40, 88, 15, 11, 91],\n",
       "       [ 5, 79, 80, 57, 25],\n",
       "       [84, 59, 28, 52, 34],\n",
       "       [53, 80, 97, 58, 78]])"
      ]
     },
     "execution_count": 132,
     "metadata": {},
     "output_type": "execute_result"
    }
   ],
   "source": [
    "arr"
   ]
  },
  {
   "cell_type": "code",
   "execution_count": 133,
   "id": "9fc8131e",
   "metadata": {},
   "outputs": [
    {
     "data": {
      "text/plain": [
       "array([72, 75, 85, 54, 61, 40, 88, 15, 11, 91, 79, 80, 57, 25, 84, 59, 28,\n",
       "       52, 34, 53, 80, 97, 58, 78])"
      ]
     },
     "execution_count": 133,
     "metadata": {},
     "output_type": "execute_result"
    }
   ],
   "source": [
    "arr[arr>10]"
   ]
  },
  {
   "cell_type": "code",
   "execution_count": 134,
   "id": "bf91d2cf",
   "metadata": {},
   "outputs": [
    {
     "data": {
      "text/plain": [
       "array([[ True,  True,  True,  True,  True],\n",
       "       [ True,  True,  True,  True,  True],\n",
       "       [False,  True,  True,  True,  True],\n",
       "       [ True,  True,  True,  True,  True],\n",
       "       [ True,  True,  True,  True,  True]])"
      ]
     },
     "execution_count": 134,
     "metadata": {},
     "output_type": "execute_result"
    }
   ],
   "source": [
    "arr>10"
   ]
  },
  {
   "cell_type": "code",
   "execution_count": 136,
   "id": "9f21b4c2",
   "metadata": {},
   "outputs": [
    {
     "data": {
      "text/plain": [
       "array([[5184, 5625, 7225, 2916, 3721],\n",
       "       [1600, 7744,  225,  121, 8281],\n",
       "       [  25, 6241, 6400, 3249,  625],\n",
       "       [7056, 3481,  784, 2704, 1156],\n",
       "       [2809, 6400, 9409, 3364, 6084]])"
      ]
     },
     "execution_count": 136,
     "metadata": {},
     "output_type": "execute_result"
    }
   ],
   "source": [
    "arr * arr"
   ]
  },
  {
   "cell_type": "code",
   "execution_count": 137,
   "id": "c0cc69d1",
   "metadata": {},
   "outputs": [],
   "source": [
    "arr1 = np.random.randint(2,4,(3,3))"
   ]
  },
  {
   "cell_type": "code",
   "execution_count": 138,
   "id": "59a253e9",
   "metadata": {},
   "outputs": [],
   "source": [
    "arr2 = np.random.randint(2,4,(3,3))"
   ]
  },
  {
   "cell_type": "code",
   "execution_count": 139,
   "id": "e552080c",
   "metadata": {},
   "outputs": [
    {
     "data": {
      "text/plain": [
       "array([[2, 3, 3],\n",
       "       [3, 3, 2],\n",
       "       [2, 2, 2]])"
      ]
     },
     "execution_count": 139,
     "metadata": {},
     "output_type": "execute_result"
    }
   ],
   "source": [
    "arr1"
   ]
  },
  {
   "cell_type": "code",
   "execution_count": 140,
   "id": "f400f649",
   "metadata": {},
   "outputs": [
    {
     "data": {
      "text/plain": [
       "array([[3, 2, 3],\n",
       "       [3, 3, 3],\n",
       "       [2, 3, 2]])"
      ]
     },
     "execution_count": 140,
     "metadata": {},
     "output_type": "execute_result"
    }
   ],
   "source": [
    "arr2"
   ]
  },
  {
   "cell_type": "code",
   "execution_count": 141,
   "id": "fa801f99",
   "metadata": {},
   "outputs": [
    {
     "data": {
      "text/plain": [
       "array([[6, 6, 9],\n",
       "       [9, 9, 6],\n",
       "       [4, 6, 4]])"
      ]
     },
     "execution_count": 141,
     "metadata": {},
     "output_type": "execute_result"
    }
   ],
   "source": [
    "arr1*arr2"
   ]
  },
  {
   "cell_type": "code",
   "execution_count": 142,
   "id": "21b28628",
   "metadata": {},
   "outputs": [
    {
     "data": {
      "text/plain": [
       "array([[21, 22, 21],\n",
       "       [22, 21, 22],\n",
       "       [16, 16, 16]])"
      ]
     },
     "execution_count": 142,
     "metadata": {},
     "output_type": "execute_result"
    }
   ],
   "source": [
    "arr1@arr2"
   ]
  },
  {
   "cell_type": "code",
   "execution_count": 143,
   "id": "e5e7f440",
   "metadata": {},
   "outputs": [
    {
     "name": "stderr",
     "output_type": "stream",
     "text": [
      "C:\\Users\\hp\\AppData\\Local\\Temp\\ipykernel_11508\\4291252909.py:1: RuntimeWarning: divide by zero encountered in true_divide\n",
      "  arr/0\n"
     ]
    },
    {
     "data": {
      "text/plain": [
       "array([[inf, inf, inf, inf, inf],\n",
       "       [inf, inf, inf, inf, inf],\n",
       "       [inf, inf, inf, inf, inf],\n",
       "       [inf, inf, inf, inf, inf],\n",
       "       [inf, inf, inf, inf, inf]])"
      ]
     },
     "execution_count": 143,
     "metadata": {},
     "output_type": "execute_result"
    }
   ],
   "source": [
    "arr/0"
   ]
  },
  {
   "cell_type": "code",
   "execution_count": 144,
   "id": "b37aa66e",
   "metadata": {},
   "outputs": [
    {
     "data": {
      "text/plain": [
       "array([[5184, 5625, 7225, 2916, 3721],\n",
       "       [1600, 7744,  225,  121, 8281],\n",
       "       [  25, 6241, 6400, 3249,  625],\n",
       "       [7056, 3481,  784, 2704, 1156],\n",
       "       [2809, 6400, 9409, 3364, 6084]], dtype=int32)"
      ]
     },
     "execution_count": 144,
     "metadata": {},
     "output_type": "execute_result"
    }
   ],
   "source": [
    "arr**2"
   ]
  },
  {
   "cell_type": "code",
   "execution_count": 145,
   "id": "18b0954b",
   "metadata": {},
   "outputs": [],
   "source": [
    "arr = np.zeros((3,4))"
   ]
  },
  {
   "cell_type": "code",
   "execution_count": 146,
   "id": "1d363c44",
   "metadata": {},
   "outputs": [
    {
     "data": {
      "text/plain": [
       "array([[0., 0., 0., 0.],\n",
       "       [0., 0., 0., 0.],\n",
       "       [0., 0., 0., 0.]])"
      ]
     },
     "execution_count": 146,
     "metadata": {},
     "output_type": "execute_result"
    }
   ],
   "source": [
    "arr"
   ]
  },
  {
   "cell_type": "code",
   "execution_count": 147,
   "id": "6ac8f45b",
   "metadata": {},
   "outputs": [],
   "source": [
    "a = np.array([1,2,3,5])"
   ]
  },
  {
   "cell_type": "code",
   "execution_count": 148,
   "id": "3b892bc9",
   "metadata": {},
   "outputs": [
    {
     "data": {
      "text/plain": [
       "array([1, 2, 3, 5])"
      ]
     },
     "execution_count": 148,
     "metadata": {},
     "output_type": "execute_result"
    }
   ],
   "source": [
    "a\n"
   ]
  },
  {
   "cell_type": "code",
   "execution_count": 149,
   "id": "da90ee52",
   "metadata": {},
   "outputs": [
    {
     "data": {
      "text/plain": [
       "array([[1., 2., 3., 5.],\n",
       "       [1., 2., 3., 5.],\n",
       "       [1., 2., 3., 5.]])"
      ]
     },
     "execution_count": 149,
     "metadata": {},
     "output_type": "execute_result"
    }
   ],
   "source": [
    "arr + a "
   ]
  },
  {
   "cell_type": "code",
   "execution_count": 150,
   "id": "3fb661b4",
   "metadata": {},
   "outputs": [
    {
     "data": {
      "text/plain": [
       "array([[5., 5., 5., 5.],\n",
       "       [5., 5., 5., 5.],\n",
       "       [5., 5., 5., 5.]])"
      ]
     },
     "execution_count": 150,
     "metadata": {},
     "output_type": "execute_result"
    }
   ],
   "source": [
    "arr+ 5"
   ]
  },
  {
   "cell_type": "code",
   "execution_count": 151,
   "id": "780a7784",
   "metadata": {},
   "outputs": [],
   "source": [
    "b = np.array([5,6,7])"
   ]
  },
  {
   "cell_type": "code",
   "execution_count": 152,
   "id": "f5b0a799",
   "metadata": {},
   "outputs": [
    {
     "data": {
      "text/plain": [
       "array([5, 6, 7])"
      ]
     },
     "execution_count": 152,
     "metadata": {},
     "output_type": "execute_result"
    }
   ],
   "source": [
    "b"
   ]
  },
  {
   "cell_type": "code",
   "execution_count": 153,
   "id": "cf8a7526",
   "metadata": {},
   "outputs": [
    {
     "data": {
      "text/plain": [
       "array([[5., 5., 5., 5.],\n",
       "       [6., 6., 6., 6.],\n",
       "       [7., 7., 7., 7.]])"
      ]
     },
     "execution_count": 153,
     "metadata": {},
     "output_type": "execute_result"
    }
   ],
   "source": [
    "b.reshape(3,1) + arr"
   ]
  },
  {
   "cell_type": "code",
   "execution_count": 154,
   "id": "6094be08",
   "metadata": {},
   "outputs": [
    {
     "data": {
      "text/plain": [
       "array([5, 6, 7])"
      ]
     },
     "execution_count": 154,
     "metadata": {},
     "output_type": "execute_result"
    }
   ],
   "source": [
    "b"
   ]
  },
  {
   "cell_type": "code",
   "execution_count": 155,
   "id": "f1abe31e",
   "metadata": {},
   "outputs": [],
   "source": [
    "b = np.array([[5,6,7]])"
   ]
  },
  {
   "cell_type": "code",
   "execution_count": 156,
   "id": "e9940761",
   "metadata": {},
   "outputs": [
    {
     "data": {
      "text/plain": [
       "array([[5., 5., 5., 5.],\n",
       "       [6., 6., 6., 6.],\n",
       "       [7., 7., 7., 7.]])"
      ]
     },
     "execution_count": 156,
     "metadata": {},
     "output_type": "execute_result"
    }
   ],
   "source": [
    "b.T + arr"
   ]
  },
  {
   "cell_type": "code",
   "execution_count": 157,
   "id": "d77d2d7d",
   "metadata": {},
   "outputs": [
    {
     "data": {
      "text/plain": [
       "array([[0., 0., 0., 0.],\n",
       "       [0., 0., 0., 0.],\n",
       "       [0., 0., 0., 0.]])"
      ]
     },
     "execution_count": 157,
     "metadata": {},
     "output_type": "execute_result"
    }
   ],
   "source": [
    "arr"
   ]
  },
  {
   "cell_type": "code",
   "execution_count": 158,
   "id": "3a162c41",
   "metadata": {},
   "outputs": [],
   "source": [
    "arr = np.random.rand(5,4)"
   ]
  },
  {
   "cell_type": "code",
   "execution_count": 159,
   "id": "e824b425",
   "metadata": {},
   "outputs": [
    {
     "data": {
      "text/plain": [
       "array([[0.14371157, 0.43955115, 0.34250818, 0.89251104],\n",
       "       [0.18182479, 0.56428085, 0.02014151, 0.31258458],\n",
       "       [0.02033987, 0.00947704, 0.11860851, 0.5490375 ],\n",
       "       [0.41882772, 0.55935436, 0.58418241, 0.90607065],\n",
       "       [0.79496169, 0.08090856, 0.17953571, 0.29726434]])"
      ]
     },
     "execution_count": 159,
     "metadata": {},
     "output_type": "execute_result"
    }
   ],
   "source": [
    "arr"
   ]
  },
  {
   "cell_type": "code",
   "execution_count": 160,
   "id": "470467d5",
   "metadata": {},
   "outputs": [
    {
     "data": {
      "text/plain": [
       "array([[0.37909309, 0.66298654, 0.58524198, 0.94472803],\n",
       "       [0.42640919, 0.75118629, 0.14192077, 0.55909264],\n",
       "       [0.14261791, 0.0973501 , 0.34439587, 0.74097065],\n",
       "       [0.647169  , 0.74789997, 0.76431827, 0.95187744],\n",
       "       [0.89160624, 0.2844443 , 0.42371655, 0.54521954]])"
      ]
     },
     "execution_count": 160,
     "metadata": {},
     "output_type": "execute_result"
    }
   ],
   "source": [
    "np.sqrt(arr)"
   ]
  },
  {
   "cell_type": "code",
   "execution_count": 161,
   "id": "af220606",
   "metadata": {},
   "outputs": [
    {
     "data": {
      "text/plain": [
       "array([[1.15455105, 1.55201045, 1.40847588, 2.44125205],\n",
       "       [1.19940403, 1.75818293, 1.02034571, 1.36695356],\n",
       "       [1.02054813, 1.00952209, 1.12592905, 1.73158556],\n",
       "       [1.52017843, 1.74954256, 1.79352403, 2.47457992],\n",
       "       [2.21435615, 1.08427174, 1.19666164, 1.3461711 ]])"
      ]
     },
     "execution_count": 161,
     "metadata": {},
     "output_type": "execute_result"
    }
   ],
   "source": [
    "np.exp(arr)"
   ]
  },
  {
   "cell_type": "code",
   "execution_count": 162,
   "id": "2e07b309",
   "metadata": {},
   "outputs": [
    {
     "data": {
      "text/plain": [
       "array([[-0.84250827, -0.35699058, -0.46532905, -0.0493864 ],\n",
       "       [-0.7403469 , -0.24850469, -1.69590807, -0.50503245],\n",
       "       [-1.69165189, -2.02332722, -0.92588414, -0.26039799],\n",
       "       [-0.37796459, -0.25231297, -0.23345152, -0.04283794],\n",
       "       [-0.0996538 , -1.09200554, -0.74584916, -0.52685718]])"
      ]
     },
     "execution_count": 162,
     "metadata": {},
     "output_type": "execute_result"
    }
   ],
   "source": [
    "np.log10(arr)"
   ]
  },
  {
   "cell_type": "code",
   "execution_count": 163,
   "id": "5ffab684",
   "metadata": {},
   "outputs": [],
   "source": [
    "arr1 = np.random.randint(2,5, (5,5))"
   ]
  },
  {
   "cell_type": "code",
   "execution_count": 164,
   "id": "c975ea6e",
   "metadata": {},
   "outputs": [
    {
     "data": {
      "text/plain": [
       "array([[0.47712125, 0.30103   , 0.60205999, 0.47712125, 0.60205999],\n",
       "       [0.30103   , 0.30103   , 0.60205999, 0.30103   , 0.47712125],\n",
       "       [0.47712125, 0.47712125, 0.60205999, 0.47712125, 0.47712125],\n",
       "       [0.30103   , 0.30103   , 0.60205999, 0.60205999, 0.47712125],\n",
       "       [0.30103   , 0.30103   , 0.60205999, 0.60205999, 0.47712125]])"
      ]
     },
     "execution_count": 164,
     "metadata": {},
     "output_type": "execute_result"
    }
   ],
   "source": [
    "np.log10(arr1)"
   ]
  },
  {
   "cell_type": "code",
   "execution_count": 165,
   "id": "76ee557a",
   "metadata": {},
   "outputs": [],
   "source": [
    "np.random.seed(13)"
   ]
  },
  {
   "cell_type": "code",
   "execution_count": 167,
   "id": "03a78d1a",
   "metadata": {},
   "outputs": [
    {
     "data": {
      "text/plain": [
       "array([[0.64414354, 0.38074849, 0.66304791, 0.16365073],\n",
       "       [0.96260781, 0.34666184, 0.99175099, 0.2350579 ]])"
      ]
     },
     "execution_count": 167,
     "metadata": {},
     "output_type": "execute_result"
    }
   ],
   "source": [
    "np.random.seed(30)\n",
    "np.random.rand(2,4)"
   ]
  },
  {
   "cell_type": "code",
   "execution_count": null,
   "id": "9155fea9",
   "metadata": {},
   "outputs": [],
   "source": []
  }
 ],
 "metadata": {
  "kernelspec": {
   "display_name": "Python 3 (ipykernel)",
   "language": "python",
   "name": "python3"
  },
  "language_info": {
   "codemirror_mode": {
    "name": "ipython",
    "version": 3
   },
   "file_extension": ".py",
   "mimetype": "text/x-python",
   "name": "python",
   "nbconvert_exporter": "python",
   "pygments_lexer": "ipython3",
   "version": "3.9.12"
  }
 },
 "nbformat": 4,
 "nbformat_minor": 5
}
